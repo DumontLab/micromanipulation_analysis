{
 "cells": [
  {
   "cell_type": "code",
   "execution_count": 3,
   "metadata": {
    "collapsed": false
   },
   "outputs": [
    {
     "name": "stdout",
     "output_type": "stream",
     "text": [
      "vg_0\n",
      "vg_1\n",
      "vg_2\n",
      "vg_3\n",
      "vg_4\n",
      "vg_5\n",
      "vg_6\n",
      "vg_7\n",
      "vg_8\n",
      "vg_9\n"
     ]
    }
   ],
   "source": [
    "import sys\n",
    "import skimage\n",
    "from skimage import data, feature, filters, color, img_as_float\n",
    "from scipy import misc\n",
    "from skimage.filters import threshold_yen\n",
    "from skimage.filters import threshold_otsu\n",
    "from matplotlib import pyplot as plt\n",
    "from matplotlib import cm\n",
    "from skimage.morphology import skeletonize\n",
    "from skimage.feature import canny\n",
    "import numpy as np\n",
    "from skimage.transform import (hough_line, hough_line_peaks,\n",
    "                               probabilistic_hough_line)\n",
    "from skimage import io\n",
    "from skimage import img_as_uint\n",
    "import glob\n",
    "from PIL import Image\n",
    "from skimage import io\n",
    "import imageio\n",
    "\n",
    "###########\n",
    "##########INPUT AGUMENTS############\n",
    "##DON'T FORGET TO UPDATE PATH\n",
    "##INPUT IN THE COMMEND LINE s1 and s2 (i usually do 3 and 5 respectively)\n",
    "path = \"/Users/poojasuresh/Documents/iPQB/DumontLab/image_processing/test_skeletonize/houghtransforms/20171215_4\"\n",
    "\n",
    "image_list = []\n",
    "for filename in glob.glob('%s/testavg_*.tif'%path): #assuming gif\n",
    "    image_list.append(filename)\n",
    "\n",
    "#print image_list\n",
    "\n",
    "for name in image_list:\n",
    "    index = name.lstrip('%s/test'%path).rstrip('.tif')\n",
    "    print index\n",
    "\n",
    "\n",
    "####READ IMAGE, COMMAND LINE PROMPT####\n",
    "    img = misc.imread(name)\n",
    "\n",
    "\n",
    "###DIFFERENCE OF GAUSSIAN FILTER###\n",
    "    s1 = filters.gaussian(img,3)\n",
    "    s2 = filters.gaussian(img,5)\n",
    "\n",
    "    dog = s1 - s2\n",
    "\n",
    "###THRESHOLD YEN###\n",
    "    global_thresh = threshold_otsu(dog)\n",
    "    binary_global = dog > global_thresh\n",
    "\n",
    "###SKELETON###\n",
    "    skeleton = skeletonize(binary_global)\n",
    "\n",
    "###HOUGH LINE TRANSFORM###\n",
    "    lines = probabilistic_hough_line(skeleton, threshold=10, line_length=3,\n",
    "                                     line_gap=10)"
   ]
  },
  {
   "cell_type": "code",
   "execution_count": 8,
   "metadata": {
    "collapsed": false
   },
   "outputs": [
    {
     "data": {
      "text/plain": [
       "array([[0, 0, 0, ..., 0, 0, 0],\n",
       "       [0, 0, 0, ..., 0, 0, 0],\n",
       "       [0, 0, 0, ..., 0, 0, 0],\n",
       "       ..., \n",
       "       [0, 0, 0, ..., 0, 0, 0],\n",
       "       [0, 0, 0, ..., 0, 0, 0],\n",
       "       [0, 0, 0, ..., 0, 0, 0]])"
      ]
     },
     "execution_count": 8,
     "metadata": {},
     "output_type": "execute_result"
    }
   ],
   "source": [
    "binary_global*1"
   ]
  },
  {
   "cell_type": "code",
   "execution_count": 10,
   "metadata": {
    "collapsed": false
   },
   "outputs": [
    {
     "data": {
      "text/plain": [
       "array([[False, False, False, ..., False, False, False],\n",
       "       [False, False, False, ..., False, False, False],\n",
       "       [False, False, False, ..., False, False, False],\n",
       "       ..., \n",
       "       [False, False, False, ..., False, False, False],\n",
       "       [False, False, False, ..., False, False, False],\n",
       "       [False, False, False, ..., False, False, False]], dtype=bool)"
      ]
     },
     "execution_count": 10,
     "metadata": {},
     "output_type": "execute_result"
    }
   ],
   "source": [
    "skeleton"
   ]
  },
  {
   "cell_type": "code",
   "execution_count": 11,
   "metadata": {
    "collapsed": false
   },
   "outputs": [],
   "source": [
    "imageio.imwrite('%s/img.tif'%path,img)\n",
    "imageio.imwrite('%s/DoG.tif'%path,dog)\n",
    "imageio.imwrite('%s/threshold.tif'%path,binary_global*1)\n",
    "imageio.imwrite('%s/skeleton.tif'%path,skeleton*1)"
   ]
  },
  {
   "cell_type": "code",
   "execution_count": 12,
   "metadata": {
    "collapsed": true
   },
   "outputs": [],
   "source": [
    "from skimage.measure import label, regionprops\n",
    "import matplotlib.patches as mpatches\n",
    "from skimage.color import label2rgb\n",
    "import matplotlib.pyplot as plt\n",
    "from matplotlib import cm\n"
   ]
  },
  {
   "cell_type": "code",
   "execution_count": 146,
   "metadata": {
    "collapsed": false
   },
   "outputs": [
    {
     "data": {
      "image/png": "[encoded data removed]",
      "text/plain": [
       "<matplotlib.figure.Figure at 0x115c9e790>"
      ]
     },
     "metadata": {},
     "output_type": "display_data"
    }
   ],
   "source": [
    "label_image = label(skeleton*1)\n",
    "plt.imshow(label_image)\n",
    "plt.gca().invert_yaxis()\n",
    "plt.show()\n"
   ]
  },
  {
   "cell_type": "code",
   "execution_count": 147,
   "metadata": {
    "collapsed": false
   },
   "outputs": [
    {
     "name": "stdout",
     "output_type": "stream",
     "text": [
      "[<skimage.measure._regionprops._RegionProperties object at 0x113ec5650>, <skimage.measure._regionprops._RegionProperties object at 0x113ec56d0>, <skimage.measure._regionprops._RegionProperties object at 0x115c9ead0>, <skimage.measure._regionprops._RegionProperties object at 0x11545ddd0>, <skimage.measure._regionprops._RegionProperties object at 0x11545d8d0>, <skimage.measure._regionprops._RegionProperties object at 0x11545d9d0>, <skimage.measure._regionprops._RegionProperties object at 0x11545df90>]\n"
     ]
    }
   ],
   "source": [
    "regions = regionprops(label_image)\n",
    "print regions"
   ]
  },
  {
   "cell_type": "code",
   "execution_count": 148,
   "metadata": {
    "collapsed": false
   },
   "outputs": [
    {
     "data": {
      "image/png": "[encoded data removed]",
      "text/plain": [
       "<matplotlib.figure.Figure at 0x1157d8350>"
      ]
     },
     "metadata": {},
     "output_type": "display_data"
    }
   ],
   "source": [
    "region = regions[2].coords\n",
    "#print type(region)\n",
    "x, y = region.T\n",
    "plt.scatter(x,y)\n",
    "plt.show()\n",
    "#print y\n",
    "#print region"
   ]
  },
  {
   "cell_type": "code",
   "execution_count": 149,
   "metadata": {
    "collapsed": false
   },
   "outputs": [
    {
     "data": {
      "image/png": "[encoded data removed]",
      "text/plain": [
       "<matplotlib.figure.Figure at 0x115a75f90>"
      ]
     },
     "metadata": {},
     "output_type": "display_data"
    }
   ],
   "source": [
    "fit = np.polyfit(x,y,3)\n",
    "val = np.polyval(fit, x)\n",
    "plt.scatter(x,y)\n",
    "plt.plot(x,val)\n",
    "plt.show()"
   ]
  },
  {
   "cell_type": "code",
   "execution_count": 151,
   "metadata": {
    "collapsed": false
   },
   "outputs": [],
   "source": [
    "'''mydict={}\n",
    "\n",
    "for i in region:\n",
    "    mydict[i[1]] = [i[0]]\n",
    "#    print mydict\n",
    "    if i[1] in mydict.keys():\n",
    "        mydict[i[1]].append(i[0])  \n",
    "\n",
    "#print mydict'''"
   ]
  },
  {
   "cell_type": "code",
   "execution_count": 152,
   "metadata": {
    "collapsed": true
   },
   "outputs": [
    {
     "data": {
      "text/plain": [
       "'print type(mydict)\\nfor key in mydict.keys():\\n    for i in region:\\n        if i[0] == key:\\n            mydict[i[0]].np.append(i[1])'"
      ]
     },
     "execution_count": 152,
     "metadata": {},
     "output_type": "execute_result"
    }
   ],
   "source": [
    "'''print type(mydict)\n",
    "for key in mydict.keys():\n",
    "    for i in region:\n",
    "        if i[0] == key:\n",
    "            mydict[i[0]].np.append(i[1])'''"
   ]
  },
  {
   "cell_type": "code",
   "execution_count": null,
   "metadata": {
    "collapsed": true
   },
   "outputs": [],
   "source": []
  }
 ],
 "metadata": {
  "kernelspec": {
   "display_name": "Python 2",
   "language": "python",
   "name": "python2"
  },
  "language_info": {
   "codemirror_mode": {
    "name": "ipython",
    "version": 2
   },
   "file_extension": ".py",
   "mimetype": "text/x-python",
   "name": "python",
   "nbconvert_exporter": "python",
   "pygments_lexer": "ipython2",
   "version": "2.7.14"
  }
 },
 "nbformat": 4,
 "nbformat_minor": 1
}
