{
 "cells": [
  {
   "cell_type": "code",
   "execution_count": 37,
   "metadata": {},
   "outputs": [],
   "source": [
    "import sys\n",
    "import skimage\n",
    "from skimage import data, feature, filters, color, img_as_float, measure, io, img_as_uint\n",
    "from scipy import misc\n",
    "from skimage.measure import regionprops\n",
    "from skimage.measure import label\n",
    "from skimage.filters import threshold_yen\n",
    "from skimage.filters import threshold_otsu\n",
    "from skimage.filters import threshold_mean\n",
    "from skimage.filters import try_all_threshold\n",
    "from matplotlib import pyplot as plt\n",
    "from matplotlib import cm\n",
    "from skimage.morphology import skeletonize, medial_axis\n",
    "from skimage.feature import canny\n",
    "import numpy as np\n",
    "from skimage.transform import (hough_line, hough_line_peaks,\n",
    "                               probabilistic_hough_line)\n",
    "\n",
    "import glob\n",
    "from PIL import Image\n",
    "\n",
    "import pims\n",
    "from pims import Frame\n",
    "import trackpy as tp\n",
    "import imageio\n",
    "\n",
    "#path = '/Users/alexandralong/Documents/UCSF/Dumont Lab/Analysis/Micromanipulation/Translation Fiji testing/old/Input1/'\n",
    "path = '/Users/alexandralong/Documents/UCSF/Dumont Lab/Analysis/Micromanipulation/Translation Fiji testing/old/Input/'\n",
    "\n",
    "image = pims.ImageSequence('%s*.tif'%path)"
   ]
  },
  {
   "cell_type": "code",
   "execution_count": 35,
   "metadata": {},
   "outputs": [],
   "source": [
    "# This is for thresholding using a difference of gaussians\n",
    "\n",
    "for i in range(60,75):#(0,len(image)-1):\n",
    "    s1 = skimage.filters.gaussian(image[i],4)\n",
    "    s2 = skimage.filters.gaussian(image[i],6)\n",
    "    dog = s1 - s2\n",
    "    global_thresh = threshold_yen(dog)\n",
    "    binary_global = dog > global_thresh\n",
    "    imageio.imwrite('%smask%s.tif'%(path,i),binary_global*1)\n",
    "    imageio.imwrite('%sthresh%s.tif'%(path,i),binary_global*1*image[i])\n",
    "\n",
    "# read in the output images    \n",
    "mask = pims.ImageSequence('%smask*.tif'%path)\n",
    "thresh_image = pims.ImageSequence('%sthresh*.tif'%path)"
   ]
  },
  {
   "cell_type": "code",
   "execution_count": 41,
   "metadata": {},
   "outputs": [
    {
     "data": {
      "image/png": "[encoded data removed]",
      "text/plain": [
       "<matplotlib.figure.Figure at 0x1c1b1d18d0>"
      ]
     },
     "metadata": {},
     "output_type": "display_data"
    }
   ],
   "source": [
    "# This is what the mask looks like\n",
    "plt.imshow(mask[1])\n",
    "plt.show()\n",
    "# Skeletonize the mask and display\n",
    "#skeleton = skeletonize(mask[1])\n",
    "#skeleton_med, distance = medial_axis(mask[1], return_distance=True)\n",
    "#dist_on_skel = distance * skeleton_med\n",
    "#plt.imshow(skeleton)\n",
    "#plt.show()\n",
    "#plt.imshow(dist_on_skel)\n",
    "#plt.show()"
   ]
  },
  {
   "cell_type": "code",
   "execution_count": 18,
   "metadata": {},
   "outputs": [
    {
     "data": {
      "text/plain": [
       "<matplotlib.image.AxesImage at 0x1c19dce588>"
      ]
     },
     "execution_count": 18,
     "metadata": {},
     "output_type": "execute_result"
    },
    {
     "data": {
      "image/png": "[encoded data removed]",
      "text/plain": [
       "<matplotlib.figure.Figure at 0x1c1a20e048>"
      ]
     },
     "metadata": {},
     "output_type": "display_data"
    }
   ],
   "source": [
    "# now get the regions to be labeled and measured\n",
    "img_label = label(mask[1])\n",
    "plt.imshow(img_label)\n",
    "regions = regionprops(img_label)"
   ]
  },
  {
   "cell_type": "code",
   "execution_count": 47,
   "metadata": {},
   "outputs": [
    {
     "ename": "ValueError",
     "evalue": "Image contains values other than 0 and 1",
     "output_type": "error",
     "traceback": [
      "\u001b[0;31m---------------------------------------------------------------------------\u001b[0m",
      "\u001b[0;31mValueError\u001b[0m                                Traceback (most recent call last)",
      "\u001b[0;32m<ipython-input-47-bd810530fbb9>\u001b[0m in \u001b[0;36m<module>\u001b[0;34m()\u001b[0m\n\u001b[1;32m      1\u001b[0m \u001b[0mtest\u001b[0m \u001b[0;34m=\u001b[0m \u001b[0mregions\u001b[0m\u001b[0;34m[\u001b[0m\u001b[0;36m1\u001b[0m\u001b[0;34m]\u001b[0m\u001b[0;34m.\u001b[0m\u001b[0mcoords\u001b[0m\u001b[0;34m\u001b[0m\u001b[0m\n\u001b[0;32m----> 2\u001b[0;31m \u001b[0mskel\u001b[0m \u001b[0;34m=\u001b[0m \u001b[0mskeletonize\u001b[0m\u001b[0;34m(\u001b[0m\u001b[0mtest\u001b[0m\u001b[0;34m)\u001b[0m\u001b[0;34m\u001b[0m\u001b[0m\n\u001b[0m",
      "\u001b[0;32m/anaconda3/lib/python3.6/site-packages/skimage/morphology/_skeletonize.py\u001b[0m in \u001b[0;36mskeletonize\u001b[0;34m(image)\u001b[0m\n\u001b[1;32m     98\u001b[0m         \u001b[0;32mraise\u001b[0m \u001b[0mValueError\u001b[0m\u001b[0;34m(\u001b[0m\u001b[0;34m'Skeletonize requires a 2D array'\u001b[0m\u001b[0;34m)\u001b[0m\u001b[0;34m\u001b[0m\u001b[0m\n\u001b[1;32m     99\u001b[0m     \u001b[0;32mif\u001b[0m \u001b[0;32mnot\u001b[0m \u001b[0mnp\u001b[0m\u001b[0;34m.\u001b[0m\u001b[0mall\u001b[0m\u001b[0;34m(\u001b[0m\u001b[0mnp\u001b[0m\u001b[0;34m.\u001b[0m\u001b[0min1d\u001b[0m\u001b[0;34m(\u001b[0m\u001b[0mimage\u001b[0m\u001b[0;34m.\u001b[0m\u001b[0mflat\u001b[0m\u001b[0;34m,\u001b[0m \u001b[0;34m(\u001b[0m\u001b[0;36m0\u001b[0m\u001b[0;34m,\u001b[0m \u001b[0;36m1\u001b[0m\u001b[0;34m)\u001b[0m\u001b[0;34m)\u001b[0m\u001b[0;34m)\u001b[0m\u001b[0;34m:\u001b[0m\u001b[0;34m\u001b[0m\u001b[0m\n\u001b[0;32m--> 100\u001b[0;31m         \u001b[0;32mraise\u001b[0m \u001b[0mValueError\u001b[0m\u001b[0;34m(\u001b[0m\u001b[0;34m'Image contains values other than 0 and 1'\u001b[0m\u001b[0;34m)\u001b[0m\u001b[0;34m\u001b[0m\u001b[0m\n\u001b[0m\u001b[1;32m    101\u001b[0m \u001b[0;34m\u001b[0m\u001b[0m\n\u001b[1;32m    102\u001b[0m     \u001b[0;32mreturn\u001b[0m \u001b[0m_fast_skeletonize\u001b[0m\u001b[0;34m(\u001b[0m\u001b[0mimage\u001b[0m\u001b[0;34m)\u001b[0m\u001b[0;34m\u001b[0m\u001b[0m\n",
      "\u001b[0;31mValueError\u001b[0m: Image contains values other than 0 and 1"
     ]
    }
   ],
   "source": [
    "test = regions[1].coords\n",
    "# probably should skeletonize this but needs to be binary...."
   ]
  },
  {
   "cell_type": "code",
   "execution_count": null,
   "metadata": {},
   "outputs": [],
   "source": []
  },
  {
   "cell_type": "code",
   "execution_count": null,
   "metadata": {},
   "outputs": [],
   "source": []
  }
 ],
 "metadata": {
  "kernelspec": {
   "display_name": "Python 3",
   "language": "python",
   "name": "python3"
  },
  "language_info": {
   "codemirror_mode": {
    "name": "ipython",
    "version": 3
   },
   "file_extension": ".py",
   "mimetype": "text/x-python",
   "name": "python",
   "nbconvert_exporter": "python",
   "pygments_lexer": "ipython3",
   "version": "3.6.4"
  }
 },
 "nbformat": 4,
 "nbformat_minor": 2
}
